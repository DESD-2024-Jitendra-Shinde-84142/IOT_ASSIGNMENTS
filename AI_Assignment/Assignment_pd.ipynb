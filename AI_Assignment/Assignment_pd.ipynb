{
 "cells": [
  {
   "cell_type": "code",
   "execution_count": 23,
   "id": "c1d622e8-e62a-4248-8d44-41ec9f2f4ae3",
   "metadata": {},
   "outputs": [],
   "source": [
    "import pandas as pd\n",
    "import numpy as np"
   ]
  },
  {
   "cell_type": "code",
   "execution_count": 24,
   "id": "68bdf924-601a-4e0b-b4e3-fbe8151c5ce3",
   "metadata": {},
   "outputs": [
    {
     "name": "stdout",
     "output_type": "stream",
     "text": [
      "0    12\n",
      "1    34\n",
      "2    56\n",
      "3    78\n",
      "4    89\n",
      "dtype: int64\n"
     ]
    }
   ],
   "source": [
    "#question 1\n",
    "q1 = [12,34,56,78,89]\n",
    "arr = pd.Series(q1)\n",
    "print(arr)"
   ]
  },
  {
   "cell_type": "code",
   "execution_count": 25,
   "id": "acc48300-bf14-4b1a-ba56-77b7976ea797",
   "metadata": {},
   "outputs": [
    {
     "name": "stdout",
     "output_type": "stream",
     "text": [
      "0    23\n",
      "1    45\n",
      "2    67\n",
      "3    35\n",
      "4    24\n",
      "5    21\n",
      "dtype: int64\n",
      "<class 'pandas.core.series.Series'>\n",
      "[23, 45, 67, 35, 24, 21]\n",
      "<class 'list'>\n"
     ]
    }
   ],
   "source": [
    "#question 2\n",
    "q2 = pd.Series([23,45,67,35,24,21])\n",
    "print(q2)\n",
    "print(type(q2))\n",
    "print(q2.tolist())\n",
    "print(type(q2.tolist()))"
   ]
  },
  {
   "cell_type": "code",
   "execution_count": 26,
   "id": "e0cc9169-5057-4387-ab21-ca43cfa409f8",
   "metadata": {},
   "outputs": [
    {
     "name": "stdout",
     "output_type": "stream",
     "text": [
      "0     3\n",
      "1     7\n",
      "2    11\n",
      "3    15\n",
      "4    19\n",
      "dtype: int64\n",
      "0    1\n",
      "1    1\n",
      "2    1\n",
      "3    1\n",
      "4    1\n",
      "dtype: int64\n",
      "0     2\n",
      "1    12\n",
      "2    30\n",
      "3    56\n",
      "4    90\n",
      "dtype: int64\n",
      "0    2.000000\n",
      "1    1.333333\n",
      "2    1.200000\n",
      "3    1.142857\n",
      "4    1.111111\n",
      "dtype: float64\n"
     ]
    }
   ],
   "source": [
    "#question 3\n",
    "q3 = pd.Series([2, 4, 6, 8, 10])\n",
    "q4 = pd.Series([1, 3, 5, 7, 9])\n",
    "print(q3+q4)\n",
    "print(q3-q4)\n",
    "print(q3*q4)\n",
    "print(q3/q4)"
   ]
  },
  {
   "cell_type": "code",
   "execution_count": 27,
   "id": "f01269d7-dc1c-4fb1-ada8-40665ef64ec6",
   "metadata": {},
   "outputs": [
    {
     "name": "stdout",
     "output_type": "stream",
     "text": [
      "a    100\n",
      "b    200\n",
      "c    300\n",
      "d    400\n",
      "e    800\n",
      "dtype: int64\n"
     ]
    }
   ],
   "source": [
    "#question 4\n",
    "d1 = {'a': 100, 'b': 200, 'c':300, 'd':400, 'e':800}\n",
    "q5 = pd.Series(d1)\n",
    "print(q5)"
   ]
  },
  {
   "cell_type": "code",
   "execution_count": 28,
   "id": "1e0c859b-0feb-457d-8ca0-4309cc0f5737",
   "metadata": {},
   "outputs": [
    {
     "name": "stdout",
     "output_type": "stream",
     "text": [
      "0    1\n",
      "1    2\n",
      "2    8\n",
      "3    3\n",
      "4    0\n",
      "5    2\n",
      "6    9\n",
      "7    4\n",
      "dtype: int64\n"
     ]
    }
   ],
   "source": [
    "#question 5\n",
    "q6 = np.array([1, 2, 8, 3, 0, 2, 9, 4])\n",
    "q7 = pd.Series(q6)\n",
    "print(q7)"
   ]
  },
  {
   "cell_type": "code",
   "execution_count": 29,
   "id": "b15c75e3-afcb-4d5f-b470-4aa5d75ae405",
   "metadata": {},
   "outputs": [
    {
     "name": "stdout",
     "output_type": "stream",
     "text": [
      "0    100.00\n",
      "1    200.00\n",
      "2       NaN\n",
      "3    300.12\n",
      "4    400.00\n",
      "dtype: float64\n"
     ]
    }
   ],
   "source": [
    "#question 6\n",
    "q8 = pd.Series(['100', '200', 'python', '300.12', '400'])\n",
    "q9 = pd.to_numeric(q8, errors ='coerce')\n",
    "print(q9)\n"
   ]
  },
  {
   "cell_type": "code",
   "execution_count": 30,
   "id": "16f20ab7-e695-4466-87b7-783ba3adfce8",
   "metadata": {},
   "outputs": [
    {
     "name": "stdout",
     "output_type": "stream",
     "text": [
      "['100' '200' 'python' '300.12' '400']\n"
     ]
    }
   ],
   "source": [
    "#question 7\n",
    "q10 = np.array(q8)\n",
    "print(q10)"
   ]
  },
  {
   "cell_type": "code",
   "execution_count": 31,
   "id": "fe85edf2-1d31-47e9-8b46-7c84bdfe15c8",
   "metadata": {},
   "outputs": [
    {
     "name": "stdout",
     "output_type": "stream",
     "text": [
      "    X   Y   Z\n",
      "0  78  84  86\n",
      "1  85  94  97\n",
      "2  96  89  96\n",
      "3  80  83  72\n",
      "4  86  86  83\n"
     ]
    }
   ],
   "source": [
    "#question 8\n",
    "df = pd.DataFrame({'X':[78,85,96,80,86], 'Y':[84,94,89,83,86],'Z':[86,97,96,72,83]});\n",
    "print(df)"
   ]
  },
  {
   "cell_type": "code",
   "execution_count": 32,
   "id": "a5bf3500-387b-40cd-8fde-a3dbbdb87993",
   "metadata": {},
   "outputs": [],
   "source": [
    "#question 9\n",
    "employees = {'100':\"Bharat\",'101':\"Jitendra\",'102':\"Sourabh\",'103':\"Nikhil\",'104':\"Aashay\",'105':\"Priyansh\",'106':\"Muskan\",'107':\"Shital\",'108':\"Nikita\",'109':\"Kartik\",'110':\"Divya\"}"
   ]
  },
  {
   "cell_type": "code",
   "execution_count": 33,
   "id": "fc76a127-6697-40c3-80ea-4751ae67968e",
   "metadata": {},
   "outputs": [],
   "source": [
    "q11 = pd.Series(employees)"
   ]
  },
  {
   "cell_type": "code",
   "execution_count": 34,
   "id": "dfb216df-2160-4647-98f2-ea9a4aea19d3",
   "metadata": {},
   "outputs": [
    {
     "name": "stdout",
     "output_type": "stream",
     "text": [
      "100      Bharat\n",
      "101    Jitendra\n",
      "102     Sourabh\n",
      "103      Nikhil\n",
      "104      Aashay\n",
      "105    Priyansh\n",
      "106      Muskan\n",
      "107      Shital\n",
      "108      Nikita\n",
      "109      Kartik\n",
      "110       Divya\n",
      "dtype: object\n"
     ]
    }
   ],
   "source": [
    "print(q11)"
   ]
  },
  {
   "cell_type": "code",
   "execution_count": 35,
   "id": "f995cf71-1bec-4da3-8b10-e88088ecb56f",
   "metadata": {},
   "outputs": [],
   "source": [
    "q12 = pd.DataFrame(list(employees.items()), columns=['EmpID', 'Name'])"
   ]
  },
  {
   "cell_type": "code",
   "execution_count": 36,
   "id": "67abf636-fce1-4285-bebd-8da26bbdd12e",
   "metadata": {},
   "outputs": [
    {
     "name": "stdout",
     "output_type": "stream",
     "text": [
      "   EmpID      Name\n",
      "0    100    Bharat\n",
      "1    101  Jitendra\n",
      "2    102   Sourabh\n",
      "3    103    Nikhil\n",
      "4    104    Aashay\n",
      "5    105  Priyansh\n",
      "6    106    Muskan\n",
      "7    107    Shital\n",
      "8    108    Nikita\n",
      "9    109    Kartik\n",
      "10   110     Divya\n"
     ]
    }
   ],
   "source": [
    "print(q12)"
   ]
  },
  {
   "cell_type": "code",
   "execution_count": 37,
   "id": "6d46a5ff-ea30-43b2-9668-1925757796e2",
   "metadata": {},
   "outputs": [
    {
     "name": "stdout",
     "output_type": "stream",
     "text": [
      "  EmpID      Name\n",
      "0   100    Bharat\n",
      "1   101  Jitendra\n",
      "2   102   Sourabh\n",
      "3   103    Nikhil\n",
      "4   104    Aashay\n"
     ]
    }
   ],
   "source": [
    "print(q12.head())"
   ]
  },
  {
   "cell_type": "code",
   "execution_count": 38,
   "id": "f591ce5d-efa3-4413-a1e5-9d761612dad9",
   "metadata": {},
   "outputs": [
    {
     "name": "stdout",
     "output_type": "stream",
     "text": [
      "   EmpID    Name\n",
      "6    106  Muskan\n",
      "7    107  Shital\n",
      "8    108  Nikita\n",
      "9    109  Kartik\n",
      "10   110   Divya\n"
     ]
    }
   ],
   "source": [
    "print(q12.tail())"
   ]
  },
  {
   "cell_type": "code",
   "execution_count": 39,
   "id": "676b7b58-65bb-42b5-9f8a-37f897f6b47f",
   "metadata": {},
   "outputs": [
    {
     "name": "stdout",
     "output_type": "stream",
     "text": [
      "   EmpID      Name\n",
      "0    100    Bharat\n",
      "1    101  Jitendra\n",
      "9    109    Kartik\n",
      "10   110     Divya\n"
     ]
    }
   ],
   "source": [
    "print(q12.iloc[[0, 1, -2, -1]])"
   ]
  },
  {
   "cell_type": "code",
   "execution_count": 40,
   "id": "e5c3290e-577c-43a9-a536-700753bc9f02",
   "metadata": {},
   "outputs": [
    {
     "name": "stdout",
     "output_type": "stream",
     "text": [
      "Aashay\n"
     ]
    }
   ],
   "source": [
    "print(q12.iloc[4]['Name'])"
   ]
  },
  {
   "cell_type": "code",
   "execution_count": 41,
   "id": "a1bcd3c0-91e1-4ef2-972c-0e46fbbde665",
   "metadata": {},
   "outputs": [
    {
     "name": "stdout",
     "output_type": "stream",
     "text": [
      "EmpID       103\n",
      "Name     Nikhil\n",
      "Name: 3, dtype: object\n"
     ]
    }
   ],
   "source": [
    "print(q12.iloc[3])"
   ]
  },
  {
   "cell_type": "code",
   "execution_count": 42,
   "id": "15c0c664-9cf1-4bed-8e9e-0b60acb0034a",
   "metadata": {},
   "outputs": [],
   "source": [
    "q12.to_csv('MyRecord.csv', index=False)"
   ]
  },
  {
   "cell_type": "code",
   "execution_count": 50,
   "id": "0df9957e-02f3-403f-9b46-9a85ffdf1ca7",
   "metadata": {},
   "outputs": [],
   "source": [
    "#q13 = pd.read_csv('./MyRecord.csv')"
   ]
  },
  {
   "cell_type": "code",
   "execution_count": null,
   "id": "d228bff1-e5f7-4d0a-a613-22ef5e1f9531",
   "metadata": {},
   "outputs": [],
   "source": []
  },
  {
   "cell_type": "code",
   "execution_count": null,
   "id": "4dad71a0-8594-4ad7-9684-dcb8aff3694c",
   "metadata": {},
   "outputs": [],
   "source": []
  }
 ],
 "metadata": {
  "kernelspec": {
   "display_name": "Python 3 (ipykernel)",
   "language": "python",
   "name": "python3"
  },
  "language_info": {
   "codemirror_mode": {
    "name": "ipython",
    "version": 3
   },
   "file_extension": ".py",
   "mimetype": "text/x-python",
   "name": "python",
   "nbconvert_exporter": "python",
   "pygments_lexer": "ipython3",
   "version": "3.10.12"
  }
 },
 "nbformat": 4,
 "nbformat_minor": 5
}
