{
 "cells": [
  {
   "cell_type": "code",
   "execution_count": 12,
   "id": "e527cc65-cba3-4624-a39f-c3657a9b0e85",
   "metadata": {},
   "outputs": [],
   "source": [
    "#question 1"
   ]
  },
  {
   "cell_type": "code",
   "execution_count": 13,
   "id": "1d8ec7c1-5cb1-4534-8ad0-564941282f7f",
   "metadata": {},
   "outputs": [],
   "source": [
    "import numpy as np"
   ]
  },
  {
   "cell_type": "code",
   "execution_count": 14,
   "id": "51a2ff2f-327f-471a-a57b-80559f819e5b",
   "metadata": {},
   "outputs": [],
   "source": [
    "def acceptarray(arr):\n",
    "    print(f\"The memory size occupied by the array is {arr.nbytes} bytes\")"
   ]
  },
  {
   "cell_type": "code",
   "execution_count": 15,
   "id": "7dc93249-f71c-48df-a3de-f522451f04a5",
   "metadata": {},
   "outputs": [],
   "source": [
    "n1 = np.array([100,34,23,45,78])"
   ]
  },
  {
   "cell_type": "code",
   "execution_count": 16,
   "id": "8a5881a3-def8-47ab-923b-aa863f621b15",
   "metadata": {},
   "outputs": [
    {
     "name": "stdout",
     "output_type": "stream",
     "text": [
      "The memory size occupied by the array is 40 bytes\n"
     ]
    }
   ],
   "source": [
    "acceptarray(n1)"
   ]
  },
  {
   "cell_type": "code",
   "execution_count": 17,
   "id": "f5a9296c-25d0-479d-8688-1b401006f433",
   "metadata": {},
   "outputs": [],
   "source": [
    "#question 2"
   ]
  },
  {
   "cell_type": "code",
   "execution_count": 18,
   "id": "e9e52efd-e71e-4362-9ac4-497d233a2a5b",
   "metadata": {},
   "outputs": [],
   "source": [
    "n2 = np.array([23,56,21,45,67])"
   ]
  },
  {
   "cell_type": "code",
   "execution_count": 19,
   "id": "7694c84d-55e3-431a-9f41-df0c57da011d",
   "metadata": {},
   "outputs": [],
   "source": [
    "greater = n1>n2"
   ]
  },
  {
   "cell_type": "code",
   "execution_count": 20,
   "id": "36856342-79bc-476b-8cd5-bbe2ba428d92",
   "metadata": {},
   "outputs": [
    {
     "name": "stdout",
     "output_type": "stream",
     "text": [
      "[ True False  True False  True]\n"
     ]
    }
   ],
   "source": [
    "print(greater)"
   ]
  },
  {
   "cell_type": "code",
   "execution_count": 21,
   "id": "7e6c58f4-3459-4575-969c-e9729d002c2c",
   "metadata": {},
   "outputs": [],
   "source": [
    "greater_equal = n1>=n2"
   ]
  },
  {
   "cell_type": "code",
   "execution_count": 22,
   "id": "89154603-c4d2-4563-85e0-fb72c5728a6a",
   "metadata": {},
   "outputs": [
    {
     "name": "stdout",
     "output_type": "stream",
     "text": [
      "[ True False  True  True  True]\n"
     ]
    }
   ],
   "source": [
    "print(greater_equal)"
   ]
  },
  {
   "cell_type": "code",
   "execution_count": 23,
   "id": "6def0a93-3796-4012-bce5-82ebc700db88",
   "metadata": {},
   "outputs": [],
   "source": [
    "less = n1<n2"
   ]
  },
  {
   "cell_type": "code",
   "execution_count": 24,
   "id": "f9cf94d9-c285-403a-865c-62aedf2ba838",
   "metadata": {},
   "outputs": [
    {
     "name": "stdout",
     "output_type": "stream",
     "text": [
      "[False  True False False False]\n"
     ]
    }
   ],
   "source": [
    "print(less)"
   ]
  },
  {
   "cell_type": "code",
   "execution_count": 25,
   "id": "44076019-0b08-4d9b-b149-da3799c84f19",
   "metadata": {},
   "outputs": [],
   "source": [
    "less_equal = n1<=n2"
   ]
  },
  {
   "cell_type": "code",
   "execution_count": 26,
   "id": "ad30923d-c02a-4ea9-8f01-bb02f273624d",
   "metadata": {},
   "outputs": [
    {
     "name": "stdout",
     "output_type": "stream",
     "text": [
      "[False  True False  True False]\n"
     ]
    }
   ],
   "source": [
    "print(less_equal)"
   ]
  },
  {
   "cell_type": "code",
   "execution_count": 27,
   "id": "864f4838-1a36-4432-8ac1-12ebcf8ffc89",
   "metadata": {},
   "outputs": [],
   "source": [
    "#question 3"
   ]
  },
  {
   "cell_type": "code",
   "execution_count": 29,
   "id": "3f97d6e6-aa09-429e-9837-1d50883e3771",
   "metadata": {},
   "outputs": [],
   "source": [
    "n3 = np.zeros(10)"
   ]
  },
  {
   "cell_type": "code",
   "execution_count": 30,
   "id": "9f18b5fb-b380-4b70-99cf-bf234dcec8e0",
   "metadata": {},
   "outputs": [],
   "source": [
    "n4 = np.ones(10)"
   ]
  },
  {
   "cell_type": "code",
   "execution_count": 32,
   "id": "197fbb35-b54c-4cf6-8b35-7c4ab2253d14",
   "metadata": {},
   "outputs": [],
   "source": [
    "n5 = np.ones(10)*5"
   ]
  },
  {
   "cell_type": "code",
   "execution_count": 33,
   "id": "fb477f50-c34a-42b3-a476-5dec4afc5d8d",
   "metadata": {},
   "outputs": [],
   "source": [
    "n6 = np.ones(10)*10"
   ]
  },
  {
   "cell_type": "code",
   "execution_count": 34,
   "id": "07f6f570-33de-4cc6-a1f6-153c3f86a163",
   "metadata": {},
   "outputs": [],
   "source": [
    "n7 = np.ones(10)*20\n",
    "n8 = np.ones(10)*50"
   ]
  },
  {
   "cell_type": "code",
   "execution_count": 35,
   "id": "28fb611e-0a88-4316-84b5-80c6bdce5d04",
   "metadata": {},
   "outputs": [
    {
     "name": "stdout",
     "output_type": "stream",
     "text": [
      "[0. 0. 0. 0. 0. 0. 0. 0. 0. 0.]\n",
      "[1. 1. 1. 1. 1. 1. 1. 1. 1. 1.]\n",
      "[5. 5. 5. 5. 5. 5. 5. 5. 5. 5.]\n",
      "[10. 10. 10. 10. 10. 10. 10. 10. 10. 10.]\n",
      "[20. 20. 20. 20. 20. 20. 20. 20. 20. 20.]\n",
      "[50. 50. 50. 50. 50. 50. 50. 50. 50. 50.]\n"
     ]
    }
   ],
   "source": [
    "print(n3)\n",
    "print(n4)\n",
    "print(n5)\n",
    "print(n6)\n",
    "print(n7)\n",
    "print(n8)"
   ]
  },
  {
   "cell_type": "code",
   "execution_count": 36,
   "id": "b0982d60-3e95-402d-910d-e52f5c70d54b",
   "metadata": {},
   "outputs": [],
   "source": [
    "#question 4"
   ]
  },
  {
   "cell_type": "code",
   "execution_count": 37,
   "id": "6a7ab878-ce03-4ea2-9bb5-0d74cd5bfbb0",
   "metadata": {},
   "outputs": [],
   "source": [
    "n9 = np.arange(30,70)"
   ]
  },
  {
   "cell_type": "code",
   "execution_count": 38,
   "id": "7a581030-4338-445b-b605-c2d9003477fa",
   "metadata": {},
   "outputs": [
    {
     "name": "stdout",
     "output_type": "stream",
     "text": [
      "[30 31 32 33 34 35 36 37 38 39 40 41 42 43 44 45 46 47 48 49 50 51 52 53\n",
      " 54 55 56 57 58 59 60 61 62 63 64 65 66 67 68 69]\n"
     ]
    }
   ],
   "source": [
    "print(n9)"
   ]
  },
  {
   "cell_type": "code",
   "execution_count": 40,
   "id": "93b4c728-1d95-457c-a832-9a1accdbe325",
   "metadata": {},
   "outputs": [
    {
     "name": "stdout",
     "output_type": "stream",
     "text": [
      "[50 51 52 53 54 55 56 57 58 59 60 61 62 63 64 65 66 67 68 69 70 71 72 73\n",
      " 74 75 76 77 78 79 80 81 82 83 84 85 86 87 88 89 90 91 92 93 94]\n"
     ]
    }
   ],
   "source": [
    "#question 5\n",
    "n10 = np.arange(50,95)\n",
    "print(n10)"
   ]
  },
  {
   "cell_type": "code",
   "execution_count": 42,
   "id": "0fb6491a-5094-4834-9622-d59de6e6b568",
   "metadata": {},
   "outputs": [
    {
     "name": "stdout",
     "output_type": "stream",
     "text": [
      "[20 22 24 26 28 30 32 34 36 38 40 42 44 46 48 50 52 54 56 58 60 62 64 66\n",
      " 68 70 72 74 76 78]\n"
     ]
    }
   ],
   "source": [
    "#question 6\n",
    "n11 = np.arange(20,80,2)\n",
    "print(n11)"
   ]
  },
  {
   "cell_type": "code",
   "execution_count": 45,
   "id": "787fd52e-f8c5-4919-a098-f88cd2c4de8d",
   "metadata": {},
   "outputs": [
    {
     "name": "stdout",
     "output_type": "stream",
     "text": [
      "21  23  25  27  29  31  33  35  37  39  41  43  45  47  49  51  53  55  57  59  61  63  65  67  69  71  73  75  77  79  "
     ]
    }
   ],
   "source": [
    "#question 7\n",
    "n12 = np.arange(20,80)\n",
    "for i in n12:\n",
    "    if (np.mod(i, 2) != 0):#using the numpy mod function\n",
    "        print(i, end = \"  \")"
   ]
  },
  {
   "cell_type": "code",
   "execution_count": 47,
   "id": "ff445882-5d66-48bd-afa9-4a602f8d16bc",
   "metadata": {},
   "outputs": [
    {
     "name": "stdout",
     "output_type": "stream",
     "text": [
      "[30 32 16 29 33 31 17 34 25 38 17 10 29 29 35]\n"
     ]
    }
   ],
   "source": [
    "#question 8 \n",
    "n13 = np.random.randint(10,40,15)\n",
    "print(n13)"
   ]
  },
  {
   "cell_type": "code",
   "execution_count": 48,
   "id": "98815f16-2180-4573-a182-3324963222dd",
   "metadata": {},
   "outputs": [
    {
     "name": "stdout",
     "output_type": "stream",
     "text": [
      "[32 45 38 43 45 36 48 30 30 43]\n"
     ]
    }
   ],
   "source": [
    "#question 9\n",
    "n14 = np.random.randint(30,50,10)\n",
    "print(n14)"
   ]
  },
  {
   "cell_type": "code",
   "execution_count": 49,
   "id": "9205d108-6446-4df4-aba9-113b26d94136",
   "metadata": {},
   "outputs": [
    {
     "name": "stdout",
     "output_type": "stream",
     "text": [
      "[56 82 74 52 84 76 80 58 76 57 62 56 80 78 59 61 58 59 61 71]\n"
     ]
    }
   ],
   "source": [
    "#question 10\n",
    "n15 = np.random.randint(50,90,20)\n",
    "print(n15)"
   ]
  },
  {
   "cell_type": "code",
   "execution_count": 50,
   "id": "0368536f-3917-4feb-a6c6-3a6930e12da0",
   "metadata": {},
   "outputs": [
    {
     "name": "stdout",
     "output_type": "stream",
     "text": [
      "The addition of the two arrays is [ 35  79  69 145 156  14]\n",
      "The division of the two arrays is [0.52173913 0.75555556 1.875      0.85897436 1.32835821 0.16666667]\n",
      "The multiplication of the two arrays is [ 276 1530 1080 5226 5963   24]\n",
      "The subtraction of the two arrays is [-11 -11  21 -11  22 -10]\n"
     ]
    }
   ],
   "source": [
    "#question 11\n",
    "n16 = np.array([12,34,45,67,89,2])\n",
    "n17 = np.array([23,45,24,78,67,12])\n",
    "print(f\"The addition of the two arrays is {n16+n17}\")\n",
    "print(f\"The division of the two arrays is {n16/n17}\")\n",
    "print(f\"The multiplication of the two arrays is {n16*n17}\")\n",
    "print(f\"The subtraction of the two arrays is {n16-n17}\")\n"
   ]
  },
  {
   "cell_type": "code",
   "execution_count": 63,
   "id": "689b679d-a3de-4b47-ade1-01786713cbf8",
   "metadata": {},
   "outputs": [
    {
     "name": "stdout",
     "output_type": "stream",
     "text": [
      "[[10 11 12 13]\n",
      " [14 15 16 17]\n",
      " [18 19 20 21]]\n"
     ]
    }
   ],
   "source": [
    "#question 12\n",
    "n18= np.arange(10,22).reshape((3, 4))\n",
    "print(n18)"
   ]
  },
  {
   "cell_type": "code",
   "execution_count": 64,
   "id": "7bd92915-71cb-42d1-b3fd-40322c6e899f",
   "metadata": {},
   "outputs": [
    {
     "name": "stdout",
     "output_type": "stream",
     "text": [
      "[[1. 0. 0.]\n",
      " [0. 1. 0.]\n",
      " [0. 0. 1.]]\n"
     ]
    }
   ],
   "source": [
    "#question 13\n",
    "n19 = np.eye(3)\n",
    "print(n19)"
   ]
  },
  {
   "cell_type": "code",
   "execution_count": 67,
   "id": "ec6c2af3-6007-4cb7-ac1f-95b7f067c752",
   "metadata": {},
   "outputs": [
    {
     "name": "stdout",
     "output_type": "stream",
     "text": [
      "[[1 2 3]\n",
      " [4 5 6]\n",
      " [7 8 9]]\n",
      "The dimentions of the array is (3, 3)\n"
     ]
    }
   ],
   "source": [
    "#question 14\n",
    "n20 = np.arange(1,10).reshape((3,3))\n",
    "print(n20)\n",
    "print(f\"The dimentions of the array is {n20.shape}\")"
   ]
  },
  {
   "cell_type": "code",
   "execution_count": 68,
   "id": "457984b4-fe41-4b9b-a906-f0090cbb75e9",
   "metadata": {},
   "outputs": [
    {
     "name": "stdout",
     "output_type": "stream",
     "text": [
      "[[1 0 0 0 0]\n",
      " [0 2 0 0 0]\n",
      " [0 0 3 0 0]\n",
      " [0 0 0 4 0]\n",
      " [0 0 0 0 5]]\n"
     ]
    }
   ],
   "source": [
    "#question 15\n",
    "n21 = np.diag([1,2,3,4,5])#diag function is use to create the this type of the matrix\n",
    "print(n21)"
   ]
  },
  {
   "cell_type": "code",
   "execution_count": 71,
   "id": "681dee84-1989-4b3a-844d-7fdaf3c17bcc",
   "metadata": {},
   "outputs": [
    {
     "name": "stdout",
     "output_type": "stream",
     "text": [
      "[[[0.88409177 0.54333032 0.31441054]\n",
      "  [0.80720469 0.62809975 0.41441466]\n",
      "  [0.09132087 0.77159434 0.42451141]]\n",
      "\n",
      " [[0.93667209 0.34803438 0.11538029]\n",
      "  [0.63163217 0.79181167 0.60092994]\n",
      "  [0.34899587 0.54130343 0.19857069]]\n",
      "\n",
      " [[0.2138809  0.21062899 0.40707649]\n",
      "  [0.14778636 0.51255217 0.9833288 ]\n",
      "  [0.15979867 0.79819875 0.08304544]]]\n"
     ]
    }
   ],
   "source": [
    "#question 16\n",
    "n22 = np.random.random((3,3,3))\n",
    "print(n22)"
   ]
  },
  {
   "cell_type": "code",
   "execution_count": 72,
   "id": "ca562c04-c70e-4b01-993b-22db155b00c2",
   "metadata": {},
   "outputs": [
    {
     "name": "stdout",
     "output_type": "stream",
     "text": [
      "[[[0.75643137 0.97802016 0.74226313 0.62482596]\n",
      "  [0.08035844 0.51625642 0.08004271 0.84343856]\n",
      "  [0.95471638 0.01717809 0.46397338 0.78778307]]\n",
      "\n",
      " [[0.20855186 0.24633704 0.75596422 0.90995842]\n",
      "  [0.12380752 0.02942846 0.41071575 0.70310469]\n",
      "  [0.72976663 0.41938804 0.36523505 0.06548267]]]\n"
     ]
    }
   ],
   "source": [
    "#question 17\n",
    "n23 = np.random.random((2,3,4))\n",
    "print(n23)"
   ]
  },
  {
   "cell_type": "code",
   "execution_count": 73,
   "id": "1ead979e-303e-4c49-a1ed-be754c1b114f",
   "metadata": {},
   "outputs": [
    {
     "name": "stdout",
     "output_type": "stream",
     "text": [
      "[23 56 12 78 25]\n"
     ]
    }
   ],
   "source": [
    "#question 18\n",
    "n24 = [23,56,12,78,25]\n",
    "arr = np.array(n24)\n",
    "print(arr)"
   ]
  },
  {
   "cell_type": "code",
   "execution_count": 76,
   "id": "561cd50d-fd0e-4fb3-95d1-ddccf59a68cf",
   "metadata": {},
   "outputs": [
    {
     "name": "stdout",
     "output_type": "stream",
     "text": [
      "[[ 2  3  4]\n",
      " [ 5  6  7]\n",
      " [ 8  9 10]]\n"
     ]
    }
   ],
   "source": [
    "#question 19\n",
    "n25 = np.arange(2,11).reshape((3,3))\n",
    "print(n25)"
   ]
  },
  {
   "cell_type": "code",
   "execution_count": 77,
   "id": "8e706586-adc9-4666-b0f4-ca585b487429",
   "metadata": {},
   "outputs": [
    {
     "name": "stdout",
     "output_type": "stream",
     "text": [
      "[12 13 14 15 16 17 18 19 20 21 22 23 24 25 26 27 28 29 30 31 32 33 34 35\n",
      " 36 37]\n"
     ]
    }
   ],
   "source": [
    "#question 20\n",
    "n26 = np.arange(12,38)\n",
    "print(n26)"
   ]
  },
  {
   "cell_type": "code",
   "execution_count": 80,
   "id": "2eadd62a-090d-4fa3-8225-56f10585c4b6",
   "metadata": {},
   "outputs": [
    {
     "name": "stdout",
     "output_type": "stream",
     "text": [
      "[37 36 35 34 33 32 31 30 29 28 27 26 25 24 23 22 21 20 19 18 17 16 15 14\n",
      " 13 12]\n"
     ]
    }
   ],
   "source": [
    "#question 21\n",
    "print(np.flipud(n26))#using the filpud function you can reverse the array"
   ]
  },
  {
   "cell_type": "code",
   "execution_count": 81,
   "id": "4959dc16-d0af-4638-b901-9eddbebd05d0",
   "metadata": {},
   "outputs": [
    {
     "name": "stdout",
     "output_type": "stream",
     "text": [
      "[12. 13. 14. 15. 16. 17. 18. 19. 20. 21. 22. 23. 24. 25. 26. 27. 28. 29.\n",
      " 30. 31. 32. 33. 34. 35. 36. 37.]\n"
     ]
    }
   ],
   "source": [
    "#question 22\n",
    "print(np.asfarray(n26))"
   ]
  },
  {
   "cell_type": "code",
   "execution_count": 82,
   "id": "23cd9b20-e36e-4555-a870-c20f5aafd45a",
   "metadata": {},
   "outputs": [
    {
     "name": "stdout",
     "output_type": "stream",
     "text": [
      "[12  4  5  6 78]\n"
     ]
    }
   ],
   "source": [
    "#question 23\n",
    "n27 = [12,4,5,6,78]\n",
    "arr = np.array(n27)\n",
    "print(arr)"
   ]
  },
  {
   "cell_type": "code",
   "execution_count": 87,
   "id": "9f733388-773b-4c15-9915-23eaebc8c421",
   "metadata": {},
   "outputs": [
    {
     "name": "stdout",
     "output_type": "stream",
     "text": [
      "[3 0 2 4 3]\n"
     ]
    }
   ],
   "source": [
    "#question 24\n",
    "n28 = [23,45,67,89,8]\n",
    "arr = np.array(n28)\n",
    "print(np.remainder(arr,5))"
   ]
  },
  {
   "cell_type": "code",
   "execution_count": 89,
   "id": "752547ba-df5e-4dfb-ba68-786e2a349658",
   "metadata": {},
   "outputs": [
    {
     "name": "stdout",
     "output_type": "stream",
     "text": [
      "[2 0 1 2 0 1 2 0 1 2 0 1 2 0 1 2 0 1 2 0 1 2 0 1 2 0 1 2 0 1]\n"
     ]
    }
   ],
   "source": [
    "#question 25\n",
    "n29 = np.arange(20,50)\n",
    "print(np.remainder(n29,3))"
   ]
  }
 ],
 "metadata": {
  "kernelspec": {
   "display_name": "Python 3 (ipykernel)",
   "language": "python",
   "name": "python3"
  },
  "language_info": {
   "codemirror_mode": {
    "name": "ipython",
    "version": 3
   },
   "file_extension": ".py",
   "mimetype": "text/x-python",
   "name": "python",
   "nbconvert_exporter": "python",
   "pygments_lexer": "ipython3",
   "version": "3.10.12"
  }
 },
 "nbformat": 4,
 "nbformat_minor": 5
}
